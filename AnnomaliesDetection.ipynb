{
 "cells": [
  {
   "cell_type": "markdown",
   "metadata": {},
   "source": [
    "# Result Without Pseudo"
   ]
  },
  {
   "cell_type": "code",
   "execution_count": 3,
   "metadata": {},
   "outputs": [
    {
     "name": "stdout",
     "output_type": "stream",
     "text": [
      "=> creating output/ped2/ped2_wresnet\n",
      "=> creating log/ped2/wrn38/ped2_wresnet_2024-11-18-13-05\n",
      "INFO:root:Namespace(cfg='config/ped2_wresnet.yaml', model_file='./output/ped2/ped2_wresnet/best_AUC_98_embdim.pth', opts=[])\n",
      "Namespace(cfg='config/ped2_wresnet.yaml', model_file='./output/ped2/ped2_wresnet/best_AUC_98_embdim.pth', opts=[])\n",
      "INFO:root:CfgNode({'OUTPUT_DIR': 'output', 'LOG_DIR': 'log', 'GPUS': (0,), 'WORKERS': 4, 'PRINT_FREQ': 100, 'SAVE_CHECKPOINT_FREQ': 1, 'AUTO_RESUME': False, 'PIN_MEMORY': True, 'CUDNN': CfgNode({'BENCHMARK': True, 'DETERMINISTIC': False, 'ENABLED': True}), 'DATASET': CfgNode({'ROOT': 'Datasets', 'DATASET': 'ped2', 'TRAINSET': 'training/frames', 'TESTSET': 'testing/frames', 'NUM_INCHANNELS': 3, 'NUM_FRAMES': 5, 'FRAME_STEPS': 2, 'LOWER_BOUND': 100}), 'TRAIN': CfgNode({'BATCH_SIZE_PER_GPU': 4, 'SHUFFLE': True, 'BEGIN_EPOCH': 0, 'END_EPOCH': 120, 'RESUME': True, 'CHECKPOINT': '', 'OPTIMIZER': 'lion', 'MOMENTUM': 0.0, 'WD': 0.0, 'NESTEROV': False, 'LR_TYPE': 'multistep', 'LR': 2e-05, 'LR_STEP': [80, 100], 'LR_FACTOR': 0.5}), 'TEST': CfgNode({'BATCH_SIZE_PER_GPU': 1}), 'MODEL': CfgNode({'NAME': 'wrn38', 'INIT_WEIGHTS': True, 'PRETRAINED': '../../datasets/seg_weights/wider_resnet38.pth.tar', 'IMAGE_SIZE': [224, 288], 'MEMORY_SIZE': 5, 'ENCODED_FRAMES': 4, 'DECODED_FRAMES': 0, 'EXTRA': CfgNode({'FINAL_CONV_KERNEL': 3})})})\n",
      "CfgNode({'OUTPUT_DIR': 'output', 'LOG_DIR': 'log', 'GPUS': (0,), 'WORKERS': 4, 'PRINT_FREQ': 100, 'SAVE_CHECKPOINT_FREQ': 1, 'AUTO_RESUME': False, 'PIN_MEMORY': True, 'CUDNN': CfgNode({'BENCHMARK': True, 'DETERMINISTIC': False, 'ENABLED': True}), 'DATASET': CfgNode({'ROOT': 'Datasets', 'DATASET': 'ped2', 'TRAINSET': 'training/frames', 'TESTSET': 'testing/frames', 'NUM_INCHANNELS': 3, 'NUM_FRAMES': 5, 'FRAME_STEPS': 2, 'LOWER_BOUND': 100}), 'TRAIN': CfgNode({'BATCH_SIZE_PER_GPU': 4, 'SHUFFLE': True, 'BEGIN_EPOCH': 0, 'END_EPOCH': 120, 'RESUME': True, 'CHECKPOINT': '', 'OPTIMIZER': 'lion', 'MOMENTUM': 0.0, 'WD': 0.0, 'NESTEROV': False, 'LR_TYPE': 'multistep', 'LR': 2e-05, 'LR_STEP': [80, 100], 'LR_FACTOR': 0.5}), 'TEST': CfgNode({'BATCH_SIZE_PER_GPU': 1}), 'MODEL': CfgNode({'NAME': 'wrn38', 'INIT_WEIGHTS': True, 'PRETRAINED': '../../datasets/seg_weights/wider_resnet38.pth.tar', 'IMAGE_SIZE': [224, 288], 'MEMORY_SIZE': 5, 'ENCODED_FRAMES': 4, 'DECODED_FRAMES': 0, 'EXTRA': CfgNode({'FINAL_CONV_KERNEL': 3})})})\n",
      "INFO:models.wresnet1024_cattn_tsm:=> wrn38_1024: (CATTN + TSM) - Ped2\n",
      "=> wrn38_1024: (CATTN + TSM) - Ped2\n",
      "INFO:root:Model: wrn38\n",
      "Model: wrn38\n",
      "INFO:root:Epoch: \n",
      "Epoch: \n",
      "[1/12]\n",
      "100%|█████████████████████████████████████████| 176/176 [00:03<00:00, 49.72it/s]\n",
      "[2/12]\n",
      "100%|█████████████████████████████████████████| 176/176 [00:02<00:00, 72.26it/s]\n",
      "[3/12]\n",
      "100%|█████████████████████████████████████████| 146/146 [00:02<00:00, 70.79it/s]\n",
      "[4/12]\n",
      "100%|█████████████████████████████████████████| 176/176 [00:02<00:00, 72.34it/s]\n",
      "[5/12]\n",
      "100%|█████████████████████████████████████████| 146/146 [00:02<00:00, 72.60it/s]\n",
      "[6/12]\n",
      "100%|█████████████████████████████████████████| 176/176 [00:02<00:00, 73.35it/s]\n",
      "[7/12]\n",
      "100%|█████████████████████████████████████████| 176/176 [00:02<00:00, 72.85it/s]\n",
      "[8/12]\n",
      "100%|█████████████████████████████████████████| 176/176 [00:02<00:00, 73.40it/s]\n",
      "[9/12]\n",
      "100%|█████████████████████████████████████████| 116/116 [00:01<00:00, 72.83it/s]\n",
      "[10/12]\n",
      "100%|█████████████████████████████████████████| 146/146 [00:02<00:00, 72.49it/s]\n",
      "[11/12]\n",
      "100%|█████████████████████████████████████████| 176/176 [00:02<00:00, 72.82it/s]\n",
      "[12/12]\n",
      "100%|█████████████████████████████████████████| 176/176 [00:02<00:00, 73.58it/s]\n",
      "INFO:root:AUC: 98.0%  FPS : 83.01747338310588 \n",
      "AUC: 98.0%  FPS : 83.01747338310588 \n"
     ]
    }
   ],
   "source": [
    "!python test.py \\\n",
    "    --cfg 'config/ped2_wresnet.yaml' \\\n",
    "    --model-file  './output/ped2/ped2_wresnet/best_AUC_98_embdim.pth'"
   ]
  }
 ],
 "metadata": {
  "kernelspec": {
   "display_name": "paper",
   "language": "python",
   "name": "python3"
  },
  "language_info": {
   "codemirror_mode": {
    "name": "ipython",
    "version": 3
   },
   "file_extension": ".py",
   "mimetype": "text/x-python",
   "name": "python",
   "nbconvert_exporter": "python",
   "pygments_lexer": "ipython3",
   "version": "3.12.4"
  }
 },
 "nbformat": 4,
 "nbformat_minor": 2
}
